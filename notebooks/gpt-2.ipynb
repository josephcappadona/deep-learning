{
 "cells": [
  {
   "cell_type": "code",
   "execution_count": 3,
   "metadata": {},
   "outputs": [
    {
     "name": "stdout",
     "output_type": "stream",
     "text": [
      "Collecting git+https://github.com/akanyaani/gpt-2-tensorflow2.0\n",
      "  Cloning https://github.com/akanyaani/gpt-2-tensorflow2.0 to /private/var/folders/x_/brnqm0gd3r9999ybqqh1zpr40000gn/T/pip-req-build-ke4u6gka\n",
      "  Running command git clone -q https://github.com/akanyaani/gpt-2-tensorflow2.0 /private/var/folders/x_/brnqm0gd3r9999ybqqh1zpr40000gn/T/pip-req-build-ke4u6gka\n",
      "Collecting click\n",
      "  Downloading click-7.1.2-py2.py3-none-any.whl (82 kB)\n",
      "\u001b[K     |████████████████████████████████| 82 kB 981 kB/s eta 0:00:011\n",
      "\u001b[?25hCollecting tqdm\n",
      "  Downloading tqdm-4.46.0-py2.py3-none-any.whl (63 kB)\n",
      "\u001b[K     |████████████████████████████████| 63 kB 3.4 MB/s eta 0:00:011\n",
      "\u001b[?25hRequirement already satisfied: tensorflow in /Users/josephcappadona/Documents/deep-learning/venv/lib/python3.7/site-packages (from gpt-2-tensorflow2.0===beta) (2.2.0)\n",
      "Requirement already satisfied: numpy in /Users/josephcappadona/Documents/deep-learning/venv/lib/python3.7/site-packages (from gpt-2-tensorflow2.0===beta) (1.18.4)\n",
      "Collecting ftfy\n",
      "  Downloading ftfy-5.7.tar.gz (58 kB)\n",
      "\u001b[K     |████████████████████████████████| 58 kB 4.6 MB/s eta 0:00:011\n",
      "\u001b[?25hCollecting sentencepiece\n",
      "  Downloading sentencepiece-0.1.90-cp37-cp37m-macosx_10_6_x86_64.whl (1.1 MB)\n",
      "\u001b[K     |████████████████████████████████| 1.1 MB 4.1 MB/s eta 0:00:01\n",
      "\u001b[?25hRequirement already satisfied: termcolor>=1.1.0 in /Users/josephcappadona/Documents/deep-learning/venv/lib/python3.7/site-packages (from tensorflow->gpt-2-tensorflow2.0===beta) (1.1.0)\n",
      "Requirement already satisfied: protobuf>=3.8.0 in /Users/josephcappadona/Documents/deep-learning/venv/lib/python3.7/site-packages (from tensorflow->gpt-2-tensorflow2.0===beta) (3.11.3)\n",
      "Requirement already satisfied: absl-py>=0.7.0 in /Users/josephcappadona/Documents/deep-learning/venv/lib/python3.7/site-packages (from tensorflow->gpt-2-tensorflow2.0===beta) (0.9.0)\n",
      "Requirement already satisfied: grpcio>=1.8.6 in /Users/josephcappadona/Documents/deep-learning/venv/lib/python3.7/site-packages (from tensorflow->gpt-2-tensorflow2.0===beta) (1.28.1)\n",
      "Requirement already satisfied: tensorboard<2.3.0,>=2.2.0 in /Users/josephcappadona/Documents/deep-learning/venv/lib/python3.7/site-packages (from tensorflow->gpt-2-tensorflow2.0===beta) (2.2.1)\n",
      "Requirement already satisfied: wheel>=0.26; python_version >= \"3\" in /Users/josephcappadona/Documents/deep-learning/venv/lib/python3.7/site-packages (from tensorflow->gpt-2-tensorflow2.0===beta) (0.34.2)\n",
      "Requirement already satisfied: wrapt>=1.11.1 in /Users/josephcappadona/Documents/deep-learning/venv/lib/python3.7/site-packages (from tensorflow->gpt-2-tensorflow2.0===beta) (1.12.1)\n",
      "Requirement already satisfied: astunparse==1.6.3 in /Users/josephcappadona/Documents/deep-learning/venv/lib/python3.7/site-packages (from tensorflow->gpt-2-tensorflow2.0===beta) (1.6.3)\n",
      "Requirement already satisfied: gast==0.3.3 in /Users/josephcappadona/Documents/deep-learning/venv/lib/python3.7/site-packages (from tensorflow->gpt-2-tensorflow2.0===beta) (0.3.3)\n",
      "Requirement already satisfied: tensorflow-estimator<2.3.0,>=2.2.0 in /Users/josephcappadona/Documents/deep-learning/venv/lib/python3.7/site-packages (from tensorflow->gpt-2-tensorflow2.0===beta) (2.2.0)\n",
      "Requirement already satisfied: six>=1.12.0 in /Users/josephcappadona/Documents/deep-learning/venv/lib/python3.7/site-packages (from tensorflow->gpt-2-tensorflow2.0===beta) (1.14.0)\n",
      "Requirement already satisfied: google-pasta>=0.1.8 in /Users/josephcappadona/Documents/deep-learning/venv/lib/python3.7/site-packages (from tensorflow->gpt-2-tensorflow2.0===beta) (0.2.0)\n",
      "Requirement already satisfied: h5py<2.11.0,>=2.10.0 in /Users/josephcappadona/Documents/deep-learning/venv/lib/python3.7/site-packages (from tensorflow->gpt-2-tensorflow2.0===beta) (2.10.0)\n",
      "Requirement already satisfied: opt-einsum>=2.3.2 in /Users/josephcappadona/Documents/deep-learning/venv/lib/python3.7/site-packages (from tensorflow->gpt-2-tensorflow2.0===beta) (3.2.1)\n",
      "Requirement already satisfied: scipy==1.4.1; python_version >= \"3\" in /Users/josephcappadona/Documents/deep-learning/venv/lib/python3.7/site-packages (from tensorflow->gpt-2-tensorflow2.0===beta) (1.4.1)\n",
      "Requirement already satisfied: keras-preprocessing>=1.1.0 in /Users/josephcappadona/Documents/deep-learning/venv/lib/python3.7/site-packages (from tensorflow->gpt-2-tensorflow2.0===beta) (1.1.1)\n",
      "Requirement already satisfied: wcwidth in /Users/josephcappadona/Documents/deep-learning/venv/lib/python3.7/site-packages (from ftfy->gpt-2-tensorflow2.0===beta) (0.1.9)\n",
      "Requirement already satisfied: setuptools in /Users/josephcappadona/Documents/deep-learning/venv/lib/python3.7/site-packages (from protobuf>=3.8.0->tensorflow->gpt-2-tensorflow2.0===beta) (46.2.0)\n",
      "Requirement already satisfied: requests<3,>=2.21.0 in /Users/josephcappadona/Documents/deep-learning/venv/lib/python3.7/site-packages (from tensorboard<2.3.0,>=2.2.0->tensorflow->gpt-2-tensorflow2.0===beta) (2.23.0)\n",
      "Requirement already satisfied: google-auth-oauthlib<0.5,>=0.4.1 in /Users/josephcappadona/Documents/deep-learning/venv/lib/python3.7/site-packages (from tensorboard<2.3.0,>=2.2.0->tensorflow->gpt-2-tensorflow2.0===beta) (0.4.1)\n",
      "Requirement already satisfied: werkzeug>=0.11.15 in /Users/josephcappadona/Documents/deep-learning/venv/lib/python3.7/site-packages (from tensorboard<2.3.0,>=2.2.0->tensorflow->gpt-2-tensorflow2.0===beta) (1.0.1)\n",
      "Requirement already satisfied: google-auth<2,>=1.6.3 in /Users/josephcappadona/Documents/deep-learning/venv/lib/python3.7/site-packages (from tensorboard<2.3.0,>=2.2.0->tensorflow->gpt-2-tensorflow2.0===beta) (1.14.3)\n",
      "Requirement already satisfied: markdown>=2.6.8 in /Users/josephcappadona/Documents/deep-learning/venv/lib/python3.7/site-packages (from tensorboard<2.3.0,>=2.2.0->tensorflow->gpt-2-tensorflow2.0===beta) (3.2.2)\n",
      "Requirement already satisfied: tensorboard-plugin-wit>=1.6.0 in /Users/josephcappadona/Documents/deep-learning/venv/lib/python3.7/site-packages (from tensorboard<2.3.0,>=2.2.0->tensorflow->gpt-2-tensorflow2.0===beta) (1.6.0.post3)\n",
      "Requirement already satisfied: chardet<4,>=3.0.2 in /Users/josephcappadona/Documents/deep-learning/venv/lib/python3.7/site-packages (from requests<3,>=2.21.0->tensorboard<2.3.0,>=2.2.0->tensorflow->gpt-2-tensorflow2.0===beta) (3.0.4)\n",
      "Requirement already satisfied: certifi>=2017.4.17 in /Users/josephcappadona/Documents/deep-learning/venv/lib/python3.7/site-packages (from requests<3,>=2.21.0->tensorboard<2.3.0,>=2.2.0->tensorflow->gpt-2-tensorflow2.0===beta) (2020.4.5.1)\n",
      "Requirement already satisfied: idna<3,>=2.5 in /Users/josephcappadona/Documents/deep-learning/venv/lib/python3.7/site-packages (from requests<3,>=2.21.0->tensorboard<2.3.0,>=2.2.0->tensorflow->gpt-2-tensorflow2.0===beta) (2.9)\n",
      "Requirement already satisfied: urllib3!=1.25.0,!=1.25.1,<1.26,>=1.21.1 in /Users/josephcappadona/Documents/deep-learning/venv/lib/python3.7/site-packages (from requests<3,>=2.21.0->tensorboard<2.3.0,>=2.2.0->tensorflow->gpt-2-tensorflow2.0===beta) (1.25.9)\n",
      "Requirement already satisfied: requests-oauthlib>=0.7.0 in /Users/josephcappadona/Documents/deep-learning/venv/lib/python3.7/site-packages (from google-auth-oauthlib<0.5,>=0.4.1->tensorboard<2.3.0,>=2.2.0->tensorflow->gpt-2-tensorflow2.0===beta) (1.3.0)\n",
      "Requirement already satisfied: cachetools<5.0,>=2.0.0 in /Users/josephcappadona/Documents/deep-learning/venv/lib/python3.7/site-packages (from google-auth<2,>=1.6.3->tensorboard<2.3.0,>=2.2.0->tensorflow->gpt-2-tensorflow2.0===beta) (4.1.0)\n",
      "Requirement already satisfied: rsa<4.1,>=3.1.4 in /Users/josephcappadona/Documents/deep-learning/venv/lib/python3.7/site-packages (from google-auth<2,>=1.6.3->tensorboard<2.3.0,>=2.2.0->tensorflow->gpt-2-tensorflow2.0===beta) (4.0)\n",
      "Requirement already satisfied: pyasn1-modules>=0.2.1 in /Users/josephcappadona/Documents/deep-learning/venv/lib/python3.7/site-packages (from google-auth<2,>=1.6.3->tensorboard<2.3.0,>=2.2.0->tensorflow->gpt-2-tensorflow2.0===beta) (0.2.8)\n",
      "Requirement already satisfied: importlib-metadata; python_version < \"3.8\" in /Users/josephcappadona/Documents/deep-learning/venv/lib/python3.7/site-packages (from markdown>=2.6.8->tensorboard<2.3.0,>=2.2.0->tensorflow->gpt-2-tensorflow2.0===beta) (1.6.0)\n",
      "Requirement already satisfied: oauthlib>=3.0.0 in /Users/josephcappadona/Documents/deep-learning/venv/lib/python3.7/site-packages (from requests-oauthlib>=0.7.0->google-auth-oauthlib<0.5,>=0.4.1->tensorboard<2.3.0,>=2.2.0->tensorflow->gpt-2-tensorflow2.0===beta) (3.1.0)\n",
      "Requirement already satisfied: pyasn1>=0.1.3 in /Users/josephcappadona/Documents/deep-learning/venv/lib/python3.7/site-packages (from rsa<4.1,>=3.1.4->google-auth<2,>=1.6.3->tensorboard<2.3.0,>=2.2.0->tensorflow->gpt-2-tensorflow2.0===beta) (0.4.8)\n",
      "Requirement already satisfied: zipp>=0.5 in /Users/josephcappadona/Documents/deep-learning/venv/lib/python3.7/site-packages (from importlib-metadata; python_version < \"3.8\"->markdown>=2.6.8->tensorboard<2.3.0,>=2.2.0->tensorflow->gpt-2-tensorflow2.0===beta) (3.1.0)\n",
      "Building wheels for collected packages: gpt-2-tensorflow2.0, ftfy\n",
      "  Building wheel for gpt-2-tensorflow2.0 (setup.py) ... \u001b[?25ldone\n",
      "\u001b[?25h  Created wheel for gpt-2-tensorflow2.0: filename=gpt_2_tensorflow2.0-beta-py3-none-any.whl size=6704 sha256=2e434688f8ee07caeb3fa6689f82639482bff4755e67d4286f37a853eb984f20\n",
      "  Stored in directory: /private/var/folders/x_/brnqm0gd3r9999ybqqh1zpr40000gn/T/pip-ephem-wheel-cache-6nx6w43g/wheels/6c/94/67/eb40fbfc1490938c7b78abd4332a3508f0ebf97464c2005b57\n",
      "  Building wheel for ftfy (setup.py) ... \u001b[?25ldone\n",
      "\u001b[?25h  Created wheel for ftfy: filename=ftfy-5.7-py3-none-any.whl size=44593 sha256=a204cd1505a3f312edf33368548ceb43180f9987c7314d2f0c78dfb3696dfdc8\n",
      "  Stored in directory: /Users/josephcappadona/Library/Caches/pip/wheels/e4/5c/7a/1b420c838540b43bd303641170f3de8ba42eb7515bc1695ec2\n",
      "Successfully built gpt-2-tensorflow2.0 ftfy\n",
      "Installing collected packages: click, tqdm, ftfy, sentencepiece, gpt-2-tensorflow2.0\n",
      "Successfully installed click-7.1.2 ftfy-5.7 gpt-2-tensorflow2.0-beta sentencepiece-0.1.90 tqdm-4.46.0\n"
     ]
    }
   ],
   "source": [
    "!pip install git+https://github.com/akanyaani/gpt-2-tensorflow2.0"
   ]
  },
  {
   "cell_type": "code",
   "execution_count": null,
   "metadata": {},
   "outputs": [],
   "source": []
  }
 ],
 "metadata": {
  "kernelspec": {
   "display_name": "",
   "name": ""
  },
  "language_info": {
   "codemirror_mode": {
    "name": "ipython",
    "version": 3
   },
   "file_extension": ".py",
   "mimetype": "text/x-python",
   "name": "python",
   "nbconvert_exporter": "python",
   "pygments_lexer": "ipython3",
   "version": "3.7.2"
  }
 },
 "nbformat": 4,
 "nbformat_minor": 4
}
