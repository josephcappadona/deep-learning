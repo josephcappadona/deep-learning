{
 "cells": [
  {
   "cell_type": "markdown",
   "metadata": {
    "colab_type": "text",
    "id": "tYqFbmVTeLXR"
   },
   "source": [
    "# Melee Stages VAE"
   ]
  },
  {
   "cell_type": "code",
   "execution_count": 3,
   "metadata": {
    "colab": {
     "base_uri": "https://localhost:8080/",
     "height": 125
    },
    "colab_type": "code",
    "id": "5JESufcLlSMT",
    "outputId": "b2dfe28c-6fc9-4bad-a2ce-a393df70ece6"
   },
   "outputs": [
    {
     "name": "stdout",
     "output_type": "stream",
     "text": [
      "Go to this URL in a browser: https://accounts.google.com/o/oauth2/auth?client_id=947318989803-6bn6qk8qdgf4n4g3pfee6491hc0brc4i.apps.googleusercontent.com&redirect_uri=urn%3aietf%3awg%3aoauth%3a2.0%3aoob&response_type=code&scope=email%20https%3a%2f%2fwww.googleapis.com%2fauth%2fdocs.test%20https%3a%2f%2fwww.googleapis.com%2fauth%2fdrive%20https%3a%2f%2fwww.googleapis.com%2fauth%2fdrive.photos.readonly%20https%3a%2f%2fwww.googleapis.com%2fauth%2fpeopleapi.readonly\n",
      "\n",
      "Enter your authorization code:\n",
      "··········\n",
      "Mounted at /content/drive\n"
     ]
    }
   ],
   "source": [
    "from pathlib import Path\n",
    "from os import listdir\n",
    "from PIL import Image\n",
    "import numpy as np\n",
    "import cv2\n",
    "from sklearn.model_selection import train_test_split\n",
    "from tensorflow.keras.utils import to_categorical\n",
    "from google.colab import drive\n",
    "\n",
    "\n",
    "drive.mount('/content/drive')\n",
    "\n",
    "data_path = Path('/content/drive/My Drive/Melee/stage snippets')"
   ]
  },
  {
   "cell_type": "code",
   "execution_count": null,
   "metadata": {
    "colab": {},
    "colab_type": "code",
    "id": "_pohEou8tzU-"
   },
   "outputs": [],
   "source": [
    "def resize(im, desired_size, maintain_aspect_ratio=True, padding_color=(0, 0, 0)):\n",
    "    # adapted from https://jdhao.github.io/2017/11/06/resize-image-to-square-with-padding/#using-opencv\n",
    "    old_size = im.shape[:2] # old_size is in (height, width) format\n",
    "\n",
    "    ratio = float(desired_size)/max(old_size)\n",
    "    new_size = tuple([int(x*ratio) for x in old_size])\n",
    "\n",
    "    # new_size should be in (width, height) format\n",
    "\n",
    "    im = cv2.resize(im, (new_size[1], new_size[0]))\n",
    "\n",
    "    delta_w = desired_size - new_size[1]\n",
    "    delta_h = desired_size - new_size[0]\n",
    "    top, bottom = delta_h//2, delta_h-(delta_h//2)\n",
    "    left, right = delta_w//2, delta_w-(delta_w//2)\n",
    "\n",
    "    new_im = cv2.copyMakeBorder(im, top, bottom, left, right, cv2.BORDER_CONSTANT,\n",
    "        value=padding_color)\n",
    "\n",
    "    return new_im\n",
    "\n",
    "def preprocess(im):\n",
    "    return resize(im, 128)"
   ]
  },
  {
   "cell_type": "code",
   "execution_count": null,
   "metadata": {
    "colab": {},
    "colab_type": "code",
    "id": "1Lq44W0zt2Dd"
   },
   "outputs": [],
   "source": [
    "def get_stages_data(preprocess=lambda x: x, max_per_dir=10):\n",
    "    imgs, labels = [], []\n",
    "    for stage in listdir(data_path):\n",
    "        folder_path = (data_path / stage).resolve()\n",
    "        img_paths = [folder_path / img_filename for img_filename in listdir(data_path / folder_path)]\n",
    "        n_imgs = len(img_paths)\n",
    "\n",
    "        new_imgs = [np.asarray(Image.open(path)) for path in img_paths[:max_per_dir]]\n",
    "        n_imgs = len(new_imgs)\n",
    "        print(stage, n_imgs)\n",
    "        preprocessed_imgs = list(map(preprocess, new_imgs))\n",
    "        stage_imgs = np.array(list(map(np.asarray, preprocessed_imgs)))\n",
    "\n",
    "        imgs.extend(stage_imgs)\n",
    "        labels.extend([stage]*n_imgs)\n",
    "    return np.array(imgs), np.array(labels)\n",
    "\n",
    "def get_ordinal_encoder(labels):\n",
    "    labels = sorted(set(labels))\n",
    "    n_unique = len(set(labels))\n",
    "    encoding = dict(list(zip(labels, list(range(n_unique)))))\n",
    "    def encoder(label):\n",
    "        return encoding[label]\n",
    "    return encoder"
   ]
  },
  {
   "cell_type": "code",
   "execution_count": 9,
   "metadata": {
    "colab": {
     "base_uri": "https://localhost:8080/",
     "height": 88
    },
    "colab_type": "code",
    "id": "TF19srK_t9Zb",
    "outputId": "25377be2-9049-416c-dc3f-99977e0d6864"
   },
   "outputs": [
    {
     "name": "stdout",
     "output_type": "stream",
     "text": [
      "FoD_snippets 10\n",
      "FD_snippets 10\n",
      "PS_snippets 10\n",
      "BF_snippets 10\n"
     ]
    }
   ],
   "source": [
    "X, y = get_stages_data(preprocess)\n",
    "\n",
    "# encode stage names\n",
    "ord_encoder = get_ordinal_encoder(y)\n",
    "y_ord = np.array(list(map(ord_encoder, y)))\n",
    "y_ohe = to_categorical(y_ord)"
   ]
  },
  {
   "cell_type": "code",
   "execution_count": 10,
   "metadata": {
    "colab": {
     "base_uri": "https://localhost:8080/",
     "height": 52
    },
    "colab_type": "code",
    "id": "KfkBCxfueLXV",
    "outputId": "011d0229-8e8a-4fb1-8492-b23947219681"
   },
   "outputs": [
    {
     "name": "stdout",
     "output_type": "stream",
     "text": [
      "(40, 128, 128, 3)\n",
      "(40,)\n"
     ]
    }
   ],
   "source": [
    "print(X.shape)\n",
    "print(y.shape)"
   ]
  },
  {
   "cell_type": "code",
   "execution_count": null,
   "metadata": {
    "colab": {},
    "colab_type": "code",
    "id": "4iviQsd1uSz4"
   },
   "outputs": [],
   "source": []
  },
  {
   "cell_type": "code",
   "execution_count": null,
   "metadata": {
    "colab": {},
    "colab_type": "code",
    "id": "V5KYJOKVeLXi"
   },
   "outputs": [],
   "source": [
    "\n",
    "# The data, shuffled and split between train and test sets:\n",
    "(X_train, _), (X_test, _) = train_test_split(X, y, train_size=0.8, shuffle=True, random_state=42)\n",
    "\n",
    "X_train = X_train.astype('float32') / 255\n",
    "X_test = X_test.astype('float32') / 255\n",
    "\n",
    "print(X_train.shape)\n",
    "print(X_test.shape)"
   ]
  },
  {
   "cell_type": "code",
   "execution_count": null,
   "metadata": {
    "colab": {},
    "colab_type": "code",
    "id": "FLFrbG7seLXv"
   },
   "outputs": [],
   "source": [
    "input_shape = X_train[0].shape\n",
    "latent_dim = 1024\n",
    "\n",
    "encoder = get_encoder(input_shape, latent_dim)\n",
    "#print(encoder.summary())\n",
    "\n",
    "decoder = get_decoder(latent_dim)\n",
    "#print(decoder.summary())\n",
    "\n",
    "vae = VAE(encoder, decoder)\n",
    "vae.compile(optimizer=Adam())\n",
    "\n",
    "vae.fit(X_train, epochs=30, batch_size=32)"
   ]
  },
  {
   "cell_type": "code",
   "execution_count": null,
   "metadata": {
    "colab": {},
    "colab_type": "code",
    "id": "-9WK4guUeLX3"
   },
   "outputs": [],
   "source": [
    "view_images(X_test[:10], decoder, encoder)"
   ]
  }
 ],
 "metadata": {
  "kernelspec": {
   "display_name": "venv",
   "language": "python",
   "name": "venv"
  },
  "language_info": {
   "codemirror_mode": {
    "name": "ipython",
    "version": 3
   },
   "file_extension": ".py",
   "mimetype": "text/x-python",
   "name": "python",
   "nbconvert_exporter": "python",
   "pygments_lexer": "ipython3",
   "version": "3.7.2"
  }
 },
 "nbformat": 4,
 "nbformat_minor": 4
}
